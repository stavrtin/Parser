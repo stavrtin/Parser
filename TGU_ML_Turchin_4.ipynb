{
 "cells": [
  {
   "cell_type": "markdown",
   "id": "3a2108f5",
   "metadata": {},
   "source": [
    " ## <center>     <center>Зачетное задание\n",
    "\n",
    "<font size=3>  *Модуль: \"Основы машинного обучения \"*\n",
    "<font size=3>  *Слушатель: Турчин М.В.*<br>\n",
    "<font size=3> *Поток: 7*<br>\n",
    "\n",
    "    \n",
    "    "
   ]
  },
  {
   "cell_type": "markdown",
   "id": "d45765e6",
   "metadata": {},
   "source": [
    "ЗАДАНИЕ:\n",
    "\n",
    "1. Обучить группу моделей (**Logistic Regression, Decision Tree, Random Forest, Gradient Boosting, MLPClassifier**)\n",
    "с поиском их параметров с помощью данных обучающей выборки train_5_students.csv. \n",
    "У каждого алгоритма машинного обучения есть свой параметр: например, у Decision Tree это max_depth.\n",
    "Перебор параметров делать по сетке адекватного размера (например, от 1 до 50), чтобы это не заняло слишком много времени.\n",
    "\n",
    "2. Отобранные модели отсортировать по качеству их предсказания на тестовой выборке test_5_students.csv. Качество предсказания оценивать с помощью метрики точности: accuracy.\n",
    "3. Выбрать наилучшую модель из получившихся!<br>\n",
    "Требования к точности модели<br>\n",
    "- 80% — нормально<br>\n",
    "- от 80  до 85 — хорошо<br>\n",
    "- от 85 до 90 — отлично<br>\n",
    "- от 90 до 100 — идеально<br>\n"
   ]
  },
  {
   "cell_type": "markdown",
   "id": "44fd7731",
   "metadata": {},
   "source": [
    "<a id='section_id_0'></a>\n",
    "### Содержание:\n",
    "1. **[Подготовка исходных данных](#section_id_1)**\n",
    "2. **[Получим базовое решение](#section_id_2)**\n",
    "3. **[EDA](#section_id_3)**\n",
    "4. **[Обучение и валидация моделей](#section_id_4)**\n",
    "5. **[Выводы](#section_id_5)**\n"
   ]
  },
  {
   "cell_type": "markdown",
   "id": "84138bc6",
   "metadata": {},
   "source": [
    "### 1. Подготовка исходных данных <a id='section_id_1'></a>\n",
    "\n",
    "* Загрузим библиотеки\n",
    "* Создадим датафрейм с исходными данными <br>\n",
    " ([назад к  меню](#section_id_0))"
   ]
  },
  {
   "cell_type": "code",
   "execution_count": 1,
   "id": "cec62aa2",
   "metadata": {},
   "outputs": [],
   "source": [
    "import pandas as pd\n",
    "import numpy as np\n",
    "\n",
    "import random\n",
    "from sklearn.tree import DecisionTreeClassifier\n",
    "from sklearn.ensemble import RandomForestClassifier, GradientBoostingClassifier\n",
    "from sklearn.linear_model import LogisticRegression\n",
    "from sklearn.neural_network import MLPClassifier\n",
    "# from lightgbm.sklearn import LGBMClassifier\n",
    "\n",
    "\n",
    "from sklearn.metrics import recall_score, accuracy_score, f1_score, precision_score\n",
    "\n",
    "import warnings\n",
    "warnings.filterwarnings('ignore')"
   ]
  },
  {
   "cell_type": "code",
   "execution_count": 2,
   "id": "9f8a8818",
   "metadata": {},
   "outputs": [],
   "source": [
    "# загрузим данные обучающей и тестовой выборок:\n",
    "train_df = pd.read_csv('https://drive.google.com/uc?export=download&id=1um61JjG8YBujtOjd_9WpqP7IK4RX0RFA', sep=',')\n",
    "test_df = pd.read_csv('https://drive.google.com/uc?export=download&id=11tSIBJpQ5285hS8ehMRO7oJ6SbzNN3G4', sep=',')"
   ]
  },
  {
   "cell_type": "code",
   "execution_count": 3,
   "id": "7b4c2fe8",
   "metadata": {},
   "outputs": [
    {
     "name": "stdout",
     "output_type": "stream",
     "text": [
      "train_df.shape  (713, 12)\n",
      "test_df.shape  (178, 12)\n"
     ]
    }
   ],
   "source": [
    "print('train_df.shape ', train_df.shape)\n",
    "print('test_df.shape ', test_df.shape)"
   ]
  },
  {
   "cell_type": "markdown",
   "id": "38024827",
   "metadata": {},
   "source": [
    " <hr>"
   ]
  },
  {
   "cell_type": "markdown",
   "id": "f31daefa",
   "metadata": {},
   "source": [
    "### 2. Получим базовое решение  <a id='section_id_2'></a>\n",
    "\n",
    "* Обучим модели (Logistic Regression, Decision Tree, Random Forest, Gradient Boosting, MLPClassifier) \n",
    "* Посчитаем метрику качества <br>\n",
    "\n",
    "([назад к  меню](#section_id_0))"
   ]
  },
  {
   "cell_type": "markdown",
   "id": "bc353a81",
   "metadata": {},
   "source": [
    "В качестве базового решения примем модель для дерева решений (DecisionTreeClassifier), полученную на лекции.\n",
    "Параметры модели:<br> max_depth = 3, acc_test = 0.825843<br>\n",
    "Минимальное решение по accuracy получено (82%). Дальше должны его улучшить."
   ]
  },
  {
   "cell_type": "markdown",
   "id": "4769614c",
   "metadata": {},
   "source": [
    " <hr>"
   ]
  },
  {
   "cell_type": "markdown",
   "id": "1d512a5e",
   "metadata": {},
   "source": [
    "### 3. Предобработка данных  <a id='section_id_3'></a>\n",
    "\n",
    "* Заполним пропуски \n",
    "* Создадим новые признаки <br>\n",
    "\n",
    "([назад к  меню](#section_id_0))"
   ]
  },
  {
   "cell_type": "code",
   "execution_count": 4,
   "id": "5f546446",
   "metadata": {},
   "outputs": [],
   "source": [
    "#Замена пола на численные значения\n",
    "train_df['Sex'].replace({'male':0, 'female':1}, inplace=True)\n",
    "test_df['Sex'].replace({'male':0, 'female':1}, inplace=True)"
   ]
  },
  {
   "cell_type": "code",
   "execution_count": 5,
   "id": "2a6bafb9",
   "metadata": {},
   "outputs": [],
   "source": [
    "train_EDA = train_df.copy()\n",
    "test_EDA = test_df.copy()"
   ]
  },
  {
   "cell_type": "code",
   "execution_count": 6,
   "id": "aedbff3a",
   "metadata": {},
   "outputs": [
    {
     "data": {
      "text/plain": [
       "PassengerId      0\n",
       "Survived         0\n",
       "Pclass           0\n",
       "Name             0\n",
       "Sex              0\n",
       "Age            144\n",
       "SibSp            0\n",
       "Parch            0\n",
       "Ticket           0\n",
       "Fare             0\n",
       "Cabin          555\n",
       "Embarked         2\n",
       "dtype: int64"
      ]
     },
     "execution_count": 6,
     "metadata": {},
     "output_type": "execute_result"
    }
   ],
   "source": [
    "# Найдем пропуски:\n",
    "train_EDA.isna().sum()"
   ]
  },
  {
   "cell_type": "markdown",
   "id": "1a874040",
   "metadata": {},
   "source": [
    "#### Заполним пропуски по Age:"
   ]
  },
  {
   "cell_type": "code",
   "execution_count": 7,
   "id": "38d10d30",
   "metadata": {},
   "outputs": [],
   "source": [
    "def transform_Age(X):\n",
    "    Age_mean_df = pd.DataFrame(train_EDA.groupby(['Sex', 'Pclass']).Age.mean())\n",
    "    X['_Age'] = 0\n",
    "    X.loc[X.Age.isna(), '_Age'] = 1\n",
    "    for Pclass in [1,2,3]:\n",
    "        for sex in [0,1]:\n",
    "            X.loc[(X.Age.isna()) & (X.Sex == sex) & (X.Pclass == Pclass), 'Age'] =\\\n",
    "                         Age_mean_df.loc[sex, Pclass].values[0]\n",
    "    return X"
   ]
  },
  {
   "cell_type": "code",
   "execution_count": 8,
   "id": "1146041f",
   "metadata": {},
   "outputs": [],
   "source": [
    "train_EDA = transform_Age(train_EDA)\n",
    "test_EDA = transform_Age(test_EDA)\n",
    "# train_EDA.loc[train_EDA._Age == 1].head()"
   ]
  },
  {
   "cell_type": "code",
   "execution_count": 9,
   "id": "073f1d45",
   "metadata": {},
   "outputs": [],
   "source": [
    "# test_EDA.loc[test_EDA._Age == 1].head()"
   ]
  },
  {
   "cell_type": "markdown",
   "id": "293b9ad0",
   "metadata": {},
   "source": [
    "#### Введем новый признак, связанный с Cabin:"
   ]
  },
  {
   "cell_type": "markdown",
   "id": "a62ab04b",
   "metadata": {},
   "source": [
    "Если данные по каюте есть - признак = 1, если нет = 0"
   ]
  },
  {
   "cell_type": "code",
   "execution_count": 10,
   "id": "51a01b79",
   "metadata": {},
   "outputs": [],
   "source": [
    "def transform_Cabin(X):\n",
    "    X['_Cabin_flag'] = 1\n",
    "    X.loc[X.Cabin.isna(), '_Cabin_flag'] = 0\n",
    "    return X"
   ]
  },
  {
   "cell_type": "code",
   "execution_count": 11,
   "id": "75e75899",
   "metadata": {},
   "outputs": [],
   "source": [
    "train_EDA = transform_Cabin(train_EDA)\n",
    "test_EDA = transform_Cabin(test_EDA)"
   ]
  },
  {
   "cell_type": "code",
   "execution_count": 12,
   "id": "a6558527",
   "metadata": {},
   "outputs": [],
   "source": [
    "# train_EDA.loc[train_EDA._Cabin_flag == 1].head()"
   ]
  },
  {
   "cell_type": "markdown",
   "id": "fbe10d68",
   "metadata": {},
   "source": [
    "#### Введем новые признаки, связанные с Embarked:"
   ]
  },
  {
   "cell_type": "code",
   "execution_count": 13,
   "id": "8a2cc4bd",
   "metadata": {},
   "outputs": [
    {
     "data": {
      "text/plain": [
       "S    510\n",
       "C    139\n",
       "Q     62\n",
       "Name: Embarked, dtype: int64"
      ]
     },
     "execution_count": 13,
     "metadata": {},
     "output_type": "execute_result"
    }
   ],
   "source": [
    "# какие значения в Embarked?\n",
    "train_EDA.Embarked.value_counts()"
   ]
  },
  {
   "cell_type": "code",
   "execution_count": 14,
   "id": "da8cf11b",
   "metadata": {},
   "outputs": [],
   "source": [
    "# Заменим пропуски на самый частый\n",
    "def transform_Embarked(X):\n",
    "    X.Embarked.fillna('S', inplace=True)\n",
    "    X = pd.concat([X, pd.get_dummies(X['Embarked'])], axis=1)\n",
    "    return X"
   ]
  },
  {
   "cell_type": "code",
   "execution_count": 15,
   "id": "b24aec07",
   "metadata": {},
   "outputs": [],
   "source": [
    "train_EDA = transform_Embarked(train_EDA)\n",
    "test_EDA = transform_Embarked(test_EDA)\n",
    "# test_EDA.head()"
   ]
  },
  {
   "cell_type": "code",
   "execution_count": 16,
   "id": "bfe958bf",
   "metadata": {},
   "outputs": [],
   "source": [
    "# train_EDA.head()"
   ]
  },
  {
   "cell_type": "code",
   "execution_count": null,
   "id": "b89c1970",
   "metadata": {},
   "outputs": [],
   "source": []
  },
  {
   "cell_type": "markdown",
   "id": "f7f30300",
   "metadata": {},
   "source": [
    "#### Цена билета"
   ]
  },
  {
   "cell_type": "code",
   "execution_count": 17,
   "id": "30f78bf2",
   "metadata": {},
   "outputs": [],
   "source": [
    "# Введем дополнительные признаки по стоимости билета (разобъем по квантилям)\n",
    "def fare_to_cat(X):\n",
    "\n",
    "    X['_fare_cat'] = 0\n",
    "    X.loc[X['Fare'] >= train_EDA['Fare'].quantile(0.75), '_fare_cat'] = 1\n",
    "    X.loc[(X['Fare'] < train_EDA['Fare'].quantile(0.75)) & (X['Fare'] > train_EDA['Fare'].quantile(0.5)), '_fare_cat'] = 2\n",
    "    X.loc[(X['Fare'] < train_EDA['Fare'].quantile(0.5)) & (X['Fare'] > train_EDA['Fare'].quantile(0.25)), '_fare_cat'] = 3\n",
    "    X.loc[X['Fare'] < train_EDA['Fare'].quantile(0.25), '_fare_cat'] = 4\n",
    "    return X"
   ]
  },
  {
   "cell_type": "code",
   "execution_count": 18,
   "id": "f157fde0",
   "metadata": {},
   "outputs": [],
   "source": [
    "train_EDA = fare_to_cat(train_EDA)\n",
    "test_EDA = fare_to_cat(test_EDA)"
   ]
  },
  {
   "cell_type": "markdown",
   "id": "00778a3e",
   "metadata": {},
   "source": [
    "#### SibSp и Parch"
   ]
  },
  {
   "cell_type": "code",
   "execution_count": 19,
   "id": "100ead9b",
   "metadata": {},
   "outputs": [],
   "source": [
    "def transform_SibSp_Parch(X):\n",
    "    X['_SibSp_Parch'] = 1\n",
    "    X.loc[(X.SibSp == 0) & (X.Parch == 0), '_SibSp_Parch'] = 0\n",
    "    return X"
   ]
  },
  {
   "cell_type": "code",
   "execution_count": 20,
   "id": "67ccc03b",
   "metadata": {},
   "outputs": [],
   "source": [
    "train_EDA = transform_SibSp_Parch(train_EDA)\n",
    "test_EDA = transform_SibSp_Parch(test_EDA)"
   ]
  },
  {
   "cell_type": "code",
   "execution_count": null,
   "id": "17acf9e0",
   "metadata": {},
   "outputs": [],
   "source": []
  },
  {
   "cell_type": "markdown",
   "id": "596bc91a",
   "metadata": {},
   "source": [
    "#### SibSp и Parch (*)"
   ]
  },
  {
   "cell_type": "code",
   "execution_count": 21,
   "id": "4ad7e208",
   "metadata": {},
   "outputs": [],
   "source": [
    "def transform_SibSp_on_Parch(X):\n",
    "    X['_SibSp_on_Parch'] = 0\n",
    "    X.loc[(X.SibSp != 0) & (X.Parch != 0), '_SibSp_on_Parch'] = X.SibSp * X.Parch\n",
    "    return X"
   ]
  },
  {
   "cell_type": "code",
   "execution_count": 22,
   "id": "2f1d452e",
   "metadata": {},
   "outputs": [],
   "source": [
    "train_EDA = transform_SibSp_on_Parch(train_EDA)\n",
    "test_EDA = transform_SibSp_on_Parch(test_EDA)"
   ]
  },
  {
   "cell_type": "code",
   "execution_count": 23,
   "id": "5917c4ab",
   "metadata": {},
   "outputs": [],
   "source": [
    "train_EDA = transform_SibSp_Parch(train_EDA)\n",
    "test_EDA = transform_SibSp_Parch(test_EDA)"
   ]
  },
  {
   "cell_type": "code",
   "execution_count": 24,
   "id": "52ad05e1",
   "metadata": {},
   "outputs": [],
   "source": [
    "# train_EDA.loc[(train_EDA._SibSp_on_Parch != 0)]"
   ]
  },
  {
   "cell_type": "code",
   "execution_count": 25,
   "id": "668e6bde",
   "metadata": {},
   "outputs": [],
   "source": [
    "#выберем признаки для внесения в модель\n",
    "feature_names = ['Pclass', \n",
    "                 'Survived', \n",
    "                 'Sex', \n",
    "                 'Age', \n",
    "                   'SibSp',\n",
    "                   'Parch',\n",
    "                 '_SibSp_on_Parch',\n",
    "                 #'Ticket', \n",
    "                 'Fare', \n",
    "                 #'Cabin', \n",
    "                 #'Embarked', \n",
    "                 '_Age', \n",
    "                 '_Cabin_flag',\n",
    "                   'C', 'Q', 'S', \n",
    "                 '_fare_cat',\n",
    "                 '_SibSp_Parch']"
   ]
  },
  {
   "cell_type": "code",
   "execution_count": 26,
   "id": "10371ef0",
   "metadata": {},
   "outputs": [],
   "source": [
    "train_df = train_EDA[feature_names]\n",
    "test_df = test_EDA[feature_names]"
   ]
  },
  {
   "cell_type": "code",
   "execution_count": 27,
   "id": "082cb236",
   "metadata": {},
   "outputs": [],
   "source": [
    "train_X = train_df.drop(columns=['Survived']) \n",
    "train_y = train_df['Survived']\n",
    "\n",
    "test_X = test_df.drop(columns=['Survived']) \n",
    "test_y = test_df['Survived']"
   ]
  },
  {
   "cell_type": "code",
   "execution_count": null,
   "id": "3cd8dfbc",
   "metadata": {},
   "outputs": [],
   "source": []
  },
  {
   "cell_type": "markdown",
   "id": "353a55c0",
   "metadata": {},
   "source": [
    "### 4. Обучим модели  <a id='section_id_4'></a>\n",
    "\n",
    "* обучим модели  RandomForestClassifier, GradientBoostingClassifier, DecisionTreeClassifier, LGBMClassifier<br>\n",
    "\n",
    "([назад к  меню](#section_id_0))"
   ]
  },
  {
   "cell_type": "code",
   "execution_count": 31,
   "id": "97f2a7ed",
   "metadata": {},
   "outputs": [
    {
     "name": "stdout",
     "output_type": "stream",
     "text": [
      "####### РЕЗУЛЬТАТЫ ДЛЯ ОБУЧЕНИЯ #######\n",
      "Recall:  0.7328519855595668\n",
      "Accuracy:  0.8134642356241234\n",
      "Precision:  0.7748091603053435\n",
      "F1 score:  0.7532467532467533\n",
      "####### РЕЗУЛЬТАТЫ ДЛЯ ТЕСТА #######\n",
      "Recall:  0.7538461538461538\n",
      "Accuracy:  0.8033707865168539\n",
      "Precision:  0.7205882352941176\n",
      "F1 score:  0.7368421052631577\n",
      "Wall time: 47.4 ms\n"
     ]
    }
   ],
   "source": [
    "%%time\n",
    "#LogisticRegression\n",
    "clf = LogisticRegression(random_state=42)\n",
    "clf.fit(train_X, train_y)\n",
    "preds_train = clf.predict(train_X) # предсказания для train_X \n",
    "preds_test = clf.predict(test_X) # предсказания для test_X\n",
    "\n",
    "print('####### РЕЗУЛЬТАТЫ ДЛЯ ОБУЧЕНИЯ #######')\n",
    "print('Recall: ', recall_score(train_y, preds_train))\n",
    "print('Accuracy: ', accuracy_score(train_y, preds_train))\n",
    "print('Precision: ', precision_score(train_y, preds_train))\n",
    "print('F1 score: ', f1_score(train_y, preds_train))\n",
    "\n",
    "print('####### РЕЗУЛЬТАТЫ ДЛЯ ТЕСТА #######')\n",
    "print('Recall: ', recall_score(test_y, preds_test))\n",
    "print('Accuracy: ', accuracy_score(test_y, preds_test))\n",
    "print('Precision: ', precision_score(test_y, preds_test))\n",
    "print('F1 score: ', f1_score(test_y, preds_test))"
   ]
  },
  {
   "cell_type": "code",
   "execution_count": 33,
   "id": "f8fe43d7",
   "metadata": {},
   "outputs": [
    {
     "name": "stdout",
     "output_type": "stream",
     "text": [
      "Wall time: 147 ms\n"
     ]
    }
   ],
   "source": [
    "%%time\n",
    "#(DecisionTreeClassifier)\n",
    "\n",
    "results = pd.DataFrame()\n",
    "for max_depth in range(1, 50, 2):\n",
    "    clf = DecisionTreeClassifier(random_state=42, max_depth=max_depth)\n",
    "    clf.fit(train_X, train_y)\n",
    "    preds_train = clf.predict(train_X)\n",
    "    preds_test = clf.predict(test_X)\n",
    "    \n",
    "    results_dict = {\n",
    "                    'max_depth':[max_depth],  \n",
    "                    'recall_train':[recall_score(train_y, preds_train)], \n",
    "                    'acc_train':[accuracy_score(train_y, preds_train)],\n",
    "           \n",
    "                    'acc_test':[accuracy_score(test_y, preds_test)]         \n",
    "                   }\n",
    "    \n",
    "    results_df = pd.DataFrame.from_dict(results_dict)\n",
    "    results = results.append(results_df)\n",
    "\n",
    "results.reset_index(inplace=True, drop=True)"
   ]
  },
  {
   "cell_type": "code",
   "execution_count": 34,
   "id": "6a27b7fe",
   "metadata": {},
   "outputs": [
    {
     "data": {
      "text/html": [
       "<div>\n",
       "<style scoped>\n",
       "    .dataframe tbody tr th:only-of-type {\n",
       "        vertical-align: middle;\n",
       "    }\n",
       "\n",
       "    .dataframe tbody tr th {\n",
       "        vertical-align: top;\n",
       "    }\n",
       "\n",
       "    .dataframe thead th {\n",
       "        text-align: right;\n",
       "    }\n",
       "</style>\n",
       "<table border=\"1\" class=\"dataframe\">\n",
       "  <thead>\n",
       "    <tr style=\"text-align: right;\">\n",
       "      <th></th>\n",
       "      <th>max_depth</th>\n",
       "      <th>recall_train</th>\n",
       "      <th>acc_train</th>\n",
       "      <th>acc_test</th>\n",
       "    </tr>\n",
       "  </thead>\n",
       "  <tbody>\n",
       "    <tr>\n",
       "      <th>4</th>\n",
       "      <td>9</td>\n",
       "      <td>0.830325</td>\n",
       "      <td>0.915849</td>\n",
       "      <td>0.853933</td>\n",
       "    </tr>\n",
       "  </tbody>\n",
       "</table>\n",
       "</div>"
      ],
      "text/plain": [
       "   max_depth  recall_train  acc_train  acc_test\n",
       "4          9      0.830325   0.915849  0.853933"
      ]
     },
     "execution_count": 34,
     "metadata": {},
     "output_type": "execute_result"
    }
   ],
   "source": [
    "\n",
    "results[results.acc_test == results.acc_test.max()]"
   ]
  },
  {
   "cell_type": "code",
   "execution_count": 35,
   "id": "636c53a7",
   "metadata": {},
   "outputs": [
    {
     "name": "stdout",
     "output_type": "stream",
     "text": [
      "Wall time: 3.55 s\n"
     ]
    }
   ],
   "source": [
    "%%time\n",
    "#RandomForestClassifier\n",
    "\n",
    "results = pd.DataFrame()\n",
    "for max_depth in range(1, 50, 2):\n",
    "    clf = RandomForestClassifier(random_state=42, max_depth=max_depth)\n",
    "    clf.fit(train_X, train_y)\n",
    "    preds_train = clf.predict(train_X)\n",
    "    preds_test = clf.predict(test_X)\n",
    "    \n",
    "    results_dict = {\n",
    "                    'max_depth':[max_depth],  \n",
    "                    'recall_train':[recall_score(train_y, preds_train)], \n",
    "                    'acc_train':[accuracy_score(train_y, preds_train)],\n",
    "           \n",
    "                    'acc_test':[accuracy_score(test_y, preds_test)]         \n",
    "                   }\n",
    "    \n",
    "    results_df = pd.DataFrame.from_dict(results_dict)\n",
    "    results = results.append(results_df)\n",
    "\n",
    "results.reset_index(inplace=True, drop=True)"
   ]
  },
  {
   "cell_type": "code",
   "execution_count": 36,
   "id": "c929e043",
   "metadata": {},
   "outputs": [
    {
     "data": {
      "text/html": [
       "<div>\n",
       "<style scoped>\n",
       "    .dataframe tbody tr th:only-of-type {\n",
       "        vertical-align: middle;\n",
       "    }\n",
       "\n",
       "    .dataframe tbody tr th {\n",
       "        vertical-align: top;\n",
       "    }\n",
       "\n",
       "    .dataframe thead th {\n",
       "        text-align: right;\n",
       "    }\n",
       "</style>\n",
       "<table border=\"1\" class=\"dataframe\">\n",
       "  <thead>\n",
       "    <tr style=\"text-align: right;\">\n",
       "      <th></th>\n",
       "      <th>max_depth</th>\n",
       "      <th>recall_train</th>\n",
       "      <th>acc_train</th>\n",
       "      <th>acc_test</th>\n",
       "    </tr>\n",
       "  </thead>\n",
       "  <tbody>\n",
       "    <tr>\n",
       "      <th>5</th>\n",
       "      <td>11</td>\n",
       "      <td>0.920578</td>\n",
       "      <td>0.962132</td>\n",
       "      <td>0.859551</td>\n",
       "    </tr>\n",
       "  </tbody>\n",
       "</table>\n",
       "</div>"
      ],
      "text/plain": [
       "   max_depth  recall_train  acc_train  acc_test\n",
       "5         11      0.920578   0.962132  0.859551"
      ]
     },
     "execution_count": 36,
     "metadata": {},
     "output_type": "execute_result"
    }
   ],
   "source": [
    "\n",
    "results[results.acc_test == results.acc_test.max()]"
   ]
  },
  {
   "cell_type": "code",
   "execution_count": 37,
   "id": "1872ec8d",
   "metadata": {},
   "outputs": [
    {
     "name": "stdout",
     "output_type": "stream",
     "text": [
      "Wall time: 12.6 s\n"
     ]
    }
   ],
   "source": [
    "%%time\n",
    "# GradientBoostingClassifier\n",
    "\n",
    "results = pd.DataFrame()\n",
    "for max_depth in range(1, 50, 2):\n",
    "    clf = GradientBoostingClassifier(random_state=42, max_depth=max_depth)\n",
    "    clf.fit(train_X, train_y)\n",
    "    preds_train = clf.predict(train_X)\n",
    "    preds_test = clf.predict(test_X)\n",
    "    \n",
    "    results_dict = {\n",
    "                    'max_depth':[max_depth],  \n",
    "                    'recall_train':[recall_score(train_y, preds_train)], \n",
    "                    'acc_train':[accuracy_score(train_y, preds_train)],\n",
    "           \n",
    "                    'acc_test':[accuracy_score(test_y, preds_test)]         \n",
    "                   }\n",
    "    \n",
    "    results_df = pd.DataFrame.from_dict(results_dict)\n",
    "    results = results.append(results_df)\n",
    "\n",
    "results.reset_index(inplace=True, drop=True)"
   ]
  },
  {
   "cell_type": "code",
   "execution_count": 38,
   "id": "2930d3cd",
   "metadata": {},
   "outputs": [
    {
     "data": {
      "text/html": [
       "<div>\n",
       "<style scoped>\n",
       "    .dataframe tbody tr th:only-of-type {\n",
       "        vertical-align: middle;\n",
       "    }\n",
       "\n",
       "    .dataframe tbody tr th {\n",
       "        vertical-align: top;\n",
       "    }\n",
       "\n",
       "    .dataframe thead th {\n",
       "        text-align: right;\n",
       "    }\n",
       "</style>\n",
       "<table border=\"1\" class=\"dataframe\">\n",
       "  <thead>\n",
       "    <tr style=\"text-align: right;\">\n",
       "      <th></th>\n",
       "      <th>max_depth</th>\n",
       "      <th>recall_train</th>\n",
       "      <th>acc_train</th>\n",
       "      <th>acc_test</th>\n",
       "    </tr>\n",
       "  </thead>\n",
       "  <tbody>\n",
       "    <tr>\n",
       "      <th>3</th>\n",
       "      <td>7</td>\n",
       "      <td>0.974729</td>\n",
       "      <td>0.987377</td>\n",
       "      <td>0.837079</td>\n",
       "    </tr>\n",
       "    <tr>\n",
       "      <th>4</th>\n",
       "      <td>9</td>\n",
       "      <td>0.974729</td>\n",
       "      <td>0.987377</td>\n",
       "      <td>0.837079</td>\n",
       "    </tr>\n",
       "  </tbody>\n",
       "</table>\n",
       "</div>"
      ],
      "text/plain": [
       "   max_depth  recall_train  acc_train  acc_test\n",
       "3          7      0.974729   0.987377  0.837079\n",
       "4          9      0.974729   0.987377  0.837079"
      ]
     },
     "execution_count": 38,
     "metadata": {},
     "output_type": "execute_result"
    }
   ],
   "source": [
    "\n",
    "results[results.acc_test == results.acc_test.max()]"
   ]
  },
  {
   "cell_type": "code",
   "execution_count": 39,
   "id": "8cfa5a94",
   "metadata": {},
   "outputs": [
    {
     "name": "stdout",
     "output_type": "stream",
     "text": [
      "Wall time: 3.61 s\n"
     ]
    }
   ],
   "source": [
    "%%time\n",
    "#MLPClassifier\n",
    "nn = MLPClassifier(random_state=42)\n",
    "nn.fit(train_X, train_y)\n",
    "preds_train = nn.predict(train_X) # предсказания для train_X \n",
    "preds_test = nn.predict(test_X) # предсказания для test_X\n",
    "\n",
    "\n",
    "results = pd.DataFrame()\n",
    "for hidden_size in range(1, 15):\n",
    "    nn = MLPClassifier(hidden_layer_sizes=(hidden_size, ), random_state=42)\n",
    "    nn.fit(train_X, train_y)\n",
    "    preds_train = nn.predict(train_X)\n",
    "    preds_test = nn.predict(test_X)\n",
    "    \n",
    "    results_dict = {\n",
    "                    'hidden_size':[hidden_size],\n",
    "                    'recall_train':[recall_score(train_y, preds_train)], \n",
    "                    'acc_train':[recall_score(train_y, preds_train)],\n",
    "                \n",
    "                    'acc_test':[accuracy_score(test_y, preds_test)]\n",
    "      \n",
    "                   }\n",
    "    \n",
    "    results_df = pd.DataFrame.from_dict(results_dict)\n",
    "    results = results.append(results_df)\n",
    "\n",
    "results.reset_index(inplace=True, drop=True)"
   ]
  },
  {
   "cell_type": "code",
   "execution_count": 40,
   "id": "45512d9b",
   "metadata": {},
   "outputs": [
    {
     "data": {
      "text/html": [
       "<div>\n",
       "<style scoped>\n",
       "    .dataframe tbody tr th:only-of-type {\n",
       "        vertical-align: middle;\n",
       "    }\n",
       "\n",
       "    .dataframe tbody tr th {\n",
       "        vertical-align: top;\n",
       "    }\n",
       "\n",
       "    .dataframe thead th {\n",
       "        text-align: right;\n",
       "    }\n",
       "</style>\n",
       "<table border=\"1\" class=\"dataframe\">\n",
       "  <thead>\n",
       "    <tr style=\"text-align: right;\">\n",
       "      <th></th>\n",
       "      <th>hidden_size</th>\n",
       "      <th>recall_train</th>\n",
       "      <th>acc_train</th>\n",
       "      <th>acc_test</th>\n",
       "    </tr>\n",
       "  </thead>\n",
       "  <tbody>\n",
       "    <tr>\n",
       "      <th>6</th>\n",
       "      <td>7</td>\n",
       "      <td>0.606498</td>\n",
       "      <td>0.606498</td>\n",
       "      <td>0.775281</td>\n",
       "    </tr>\n",
       "    <tr>\n",
       "      <th>9</th>\n",
       "      <td>10</td>\n",
       "      <td>0.584838</td>\n",
       "      <td>0.584838</td>\n",
       "      <td>0.775281</td>\n",
       "    </tr>\n",
       "    <tr>\n",
       "      <th>11</th>\n",
       "      <td>12</td>\n",
       "      <td>0.653430</td>\n",
       "      <td>0.653430</td>\n",
       "      <td>0.775281</td>\n",
       "    </tr>\n",
       "    <tr>\n",
       "      <th>13</th>\n",
       "      <td>14</td>\n",
       "      <td>0.653430</td>\n",
       "      <td>0.653430</td>\n",
       "      <td>0.775281</td>\n",
       "    </tr>\n",
       "  </tbody>\n",
       "</table>\n",
       "</div>"
      ],
      "text/plain": [
       "    hidden_size  recall_train  acc_train  acc_test\n",
       "6             7      0.606498   0.606498  0.775281\n",
       "9            10      0.584838   0.584838  0.775281\n",
       "11           12      0.653430   0.653430  0.775281\n",
       "13           14      0.653430   0.653430  0.775281"
      ]
     },
     "execution_count": 40,
     "metadata": {},
     "output_type": "execute_result"
    }
   ],
   "source": [
    "\n",
    "results[results.acc_test == results.acc_test.max()]"
   ]
  },
  {
   "cell_type": "markdown",
   "id": "25ed149a",
   "metadata": {},
   "source": [
    "### 5. Выводы  <a id='section_id_5'></a>\n",
    "\n",
    "* \n",
    "\n",
    "([назад к  меню](#section_id_0))"
   ]
  },
  {
   "cell_type": "markdown",
   "id": "21d3bc04",
   "metadata": {},
   "source": [
    "**Вывод:\n",
    "    из опробованных моделей наилучший результат дает модель DecisionTreeClassifier с результатом 0.853933**"
   ]
  },
  {
   "cell_type": "markdown",
   "id": "a9e2fdb0",
   "metadata": {},
   "source": [
    "### 6. Дополнение  <a id='section_id_5'></a>\n",
    "\n",
    "* Немного улучшить результат удалось применив LGBMClassifier\n",
    "\n",
    "([назад к  меню](#section_id_0))\n"
   ]
  },
  {
   "cell_type": "code",
   "execution_count": 41,
   "id": "23d30f50",
   "metadata": {},
   "outputs": [],
   "source": [
    "from lightgbm.sklearn import LGBMClassifier"
   ]
  },
  {
   "cell_type": "code",
   "execution_count": 43,
   "id": "9a65bfff",
   "metadata": {},
   "outputs": [
    {
     "name": "stdout",
     "output_type": "stream",
     "text": [
      "Wall time: 17.1 s\n"
     ]
    }
   ],
   "source": [
    "%%time\n",
    "# Пример для RandomForestClassifier\n",
    "dic_model = [RandomForestClassifier, GradientBoostingClassifier, DecisionTreeClassifier, LGBMClassifier]\n",
    "results = pd.DataFrame()\n",
    "for max_depth in range(1, 50, 2):\n",
    "    for class_model in dic_model:\n",
    "        clf = class_model(random_state=42, max_depth=max_depth)\n",
    "        clf.fit(train_X, train_y)\n",
    "\n",
    "        preds_train = clf.predict(train_X)\n",
    "        preds_test = clf.predict(test_X)\n",
    "        if class_model == RandomForestClassifier:\n",
    "            model_name = 'RandomFores'\n",
    "        elif class_model == GradientBoostingClassifier:\n",
    "            model_name = 'GradientBoosting'\n",
    "        elif class_model == DecisionTreeClassifier:\n",
    "            model_name = 'DecisionTre'   \n",
    "        else: model_name = 'LGBMClassifier'\n",
    "        results_dict = {'model': [model_name],\n",
    "                        'max_depth':[max_depth],  \n",
    "                        'acc_train':[accuracy_score(train_y, preds_train)],\n",
    "                        'acc_test':[accuracy_score(test_y, preds_test)]                    \n",
    "                       }\n",
    "\n",
    "        results_df = pd.DataFrame.from_dict(results_dict)\n",
    "        results = results.append(results_df)\n",
    "\n",
    "results.reset_index(inplace=True, drop=True)"
   ]
  },
  {
   "cell_type": "code",
   "execution_count": 29,
   "id": "f01c5dac",
   "metadata": {},
   "outputs": [],
   "source": [
    "# Получим датафрейм с перечнем моделей и их характеристик(глубина)\n",
    "results"
   ]
  },
  {
   "cell_type": "code",
   "execution_count": 44,
   "id": "1100f27f",
   "metadata": {},
   "outputs": [
    {
     "data": {
      "text/html": [
       "<div>\n",
       "<style scoped>\n",
       "    .dataframe tbody tr th:only-of-type {\n",
       "        vertical-align: middle;\n",
       "    }\n",
       "\n",
       "    .dataframe tbody tr th {\n",
       "        vertical-align: top;\n",
       "    }\n",
       "\n",
       "    .dataframe thead th {\n",
       "        text-align: right;\n",
       "    }\n",
       "</style>\n",
       "<table border=\"1\" class=\"dataframe\">\n",
       "  <thead>\n",
       "    <tr style=\"text-align: right;\">\n",
       "      <th></th>\n",
       "      <th>model</th>\n",
       "      <th>max_depth</th>\n",
       "      <th>acc_train</th>\n",
       "      <th>acc_test</th>\n",
       "    </tr>\n",
       "  </thead>\n",
       "  <tbody>\n",
       "    <tr>\n",
       "      <th>15</th>\n",
       "      <td>LGBMClassifier</td>\n",
       "      <td>7</td>\n",
       "      <td>0.917251</td>\n",
       "      <td>0.865169</td>\n",
       "    </tr>\n",
       "  </tbody>\n",
       "</table>\n",
       "</div>"
      ],
      "text/plain": [
       "             model  max_depth  acc_train  acc_test\n",
       "15  LGBMClassifier          7   0.917251  0.865169"
      ]
     },
     "execution_count": 44,
     "metadata": {},
     "output_type": "execute_result"
    }
   ],
   "source": [
    "# выберем лучшую модель по показателю accuracy\n",
    "\n",
    "results[results.acc_test == results.acc_test.max()]"
   ]
  },
  {
   "cell_type": "code",
   "execution_count": 28,
   "id": "606085c5",
   "metadata": {},
   "outputs": [],
   "source": [
    "# ************************************"
   ]
  }
 ],
 "metadata": {
  "kernelspec": {
   "display_name": "Python 3 (ipykernel)",
   "language": "python",
   "name": "python3"
  },
  "language_info": {
   "codemirror_mode": {
    "name": "ipython",
    "version": 3
   },
   "file_extension": ".py",
   "mimetype": "text/x-python",
   "name": "python",
   "nbconvert_exporter": "python",
   "pygments_lexer": "ipython3",
   "version": "3.9.4"
  }
 },
 "nbformat": 4,
 "nbformat_minor": 5
}
