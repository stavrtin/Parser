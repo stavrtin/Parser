{
 "cells": [
  {
   "cell_type": "markdown",
   "id": "a5751bbf",
   "metadata": {},
   "source": [
    " ### <center>     <center>Практическое задание 1. Основы клиент-серверного взаимодействия. Парсинг API\n",
    "    \n",
    "<font size=3>  <center>\n",
    "<font size=3>  <center>**Модуль: \"Методы сбора и обработки данных из сети Интернет\"**\n",
    "    \n",
    "     ------------------------------------------------------------------------------------------------------------------"
   ]
  },
  {
   "cell_type": "markdown",
   "id": "6a39d9e8",
   "metadata": {},
   "source": [
    "##### <font size=2 color=blue> 2. Изучить список открытых API. Найти среди них любое, требующее авторизацию (любого типа). Выполнить запросы к нему, пройдя авторизацию. Ответ сервера записать в файл."
   ]
  },
  {
   "cell_type": "markdown",
   "id": "47950241",
   "metadata": {},
   "source": [
    "<font size=2 color=green> При решении задачи использовалось API Геокодера сервиса **Яндекс.Карты** <br>\n",
    "        В приложении реализовано определение название города, страны и провицнии по внесенным координатам    "
   ]
  },
  {
   "cell_type": "code",
   "execution_count": 1,
   "id": "0b2bd06f",
   "metadata": {},
   "outputs": [],
   "source": [
    "# Импортируем библиотеки\n",
    "import json\n",
    "import requests\n",
    "from pprint import pprint"
   ]
  },
  {
   "cell_type": "code",
   "execution_count": 2,
   "id": "77f561d6",
   "metadata": {},
   "outputs": [],
   "source": [
    "# Введем интересующие нас координаты:\n",
    "adress_coordinates = '69.198с.ш., 33.454в.д.'"
   ]
  },
  {
   "cell_type": "code",
   "execution_count": 4,
   "id": "3ac303df",
   "metadata": {},
   "outputs": [],
   "source": [
    "my_params = {'apikey': '***********',\n",
    "            'format': 'json',\n",
    "            'geocode': adress_coordinates\n",
    "             }"
   ]
  },
  {
   "cell_type": "code",
   "execution_count": 5,
   "id": "da07e2bc",
   "metadata": {},
   "outputs": [
    {
     "name": "stdout",
     "output_type": "stream",
     "text": [
      "По координатам 69.198с.ш., 33.454в.д. располагается: \n",
      "'Мурманская область, Россия'\n",
      "'Полярный'\n"
     ]
    }
   ],
   "source": [
    "url = 'https://geocode-maps.yandex.ru/1.x'\n",
    "response = requests.get(url, params=my_params)\n",
    "resp_j = response.json()\n",
    "print(f'По координатам {adress_coordinates} располагается: ')\n",
    "pprint(resp_j.get('response').get('GeoObjectCollection').get('featureMember')[0].get('GeoObject').get('description'))\n",
    "pprint(resp_j.get('response').get('GeoObjectCollection').get('featureMember')[0].get('GeoObject').get('name'))\n"
   ]
  },
  {
   "cell_type": "code",
   "execution_count": 6,
   "id": "a0064a39",
   "metadata": {},
   "outputs": [],
   "source": [
    "# Сохраним данные с информацией в файл \"geocoder.txt\" (путь не указываю - сохраняем в папку с ноутбуком)\n",
    "with open('geocoder.txt', 'w') as outfile:\n",
    "    json.dump(resp_j, outfile)"
   ]
  },
  {
   "cell_type": "code",
   "execution_count": null,
   "id": "8158c671",
   "metadata": {},
   "outputs": [],
   "source": []
  }
 ],
 "metadata": {
  "kernelspec": {
   "display_name": "Python 3 (ipykernel)",
   "language": "python",
   "name": "python3"
  },
  "language_info": {
   "codemirror_mode": {
    "name": "ipython",
    "version": 3
   },
   "file_extension": ".py",
   "mimetype": "text/x-python",
   "name": "python",
   "nbconvert_exporter": "python",
   "pygments_lexer": "ipython3",
   "version": "3.9.4"
  }
 },
 "nbformat": 4,
 "nbformat_minor": 5
}
