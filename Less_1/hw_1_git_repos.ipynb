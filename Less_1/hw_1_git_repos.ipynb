{
 "cells": [
  {
   "cell_type": "markdown",
   "id": "9c44820a",
   "metadata": {},
   "source": [
    " ### <center>     <center>Практическое задание 1. Основы клиент-серверного взаимодействия. Парсинг API\n",
    "    \n",
    "<font size=3>  <center>\n",
    "<font size=3>  <center>**Модуль: \"Методы сбора и обработки данных из сети Интернет\"**\n",
    "    \n",
    "     ------------------------------------------------------------------------------------------------------------------"
   ]
  },
  {
   "cell_type": "markdown",
   "id": "31dbde87",
   "metadata": {
    "heading_collapsed": true
   },
   "source": [
    "##### <font size=2 color=blue> 1. Посмотреть документацию к API GitHub,  разобраться как вывести список репозиториев для конкретного пользователя,  сохранить JSON-вывод в файле *.json."
   ]
  },
  {
   "cell_type": "code",
   "execution_count": 120,
   "id": "0b2bd06f",
   "metadata": {
    "hidden": true
   },
   "outputs": [],
   "source": [
    "# Импортируем библиотеки\n",
    "import json\n",
    "import requests\n",
    "from pprint import pprint"
   ]
  },
  {
   "cell_type": "code",
   "execution_count": 121,
   "id": "44c730a7",
   "metadata": {
    "hidden": true
   },
   "outputs": [],
   "source": [
    "# Введем ник пользователя github (для примера: dmitryrubtsov)\n",
    "username = \"dmitryrubtsov\""
   ]
  },
  {
   "cell_type": "code",
   "execution_count": 127,
   "id": "7c17a9b8",
   "metadata": {
    "hidden": true
   },
   "outputs": [],
   "source": [
    "url_repos = 'https://api.github.com/users/'+ username +'/repos'\n"
   ]
  },
  {
   "cell_type": "code",
   "execution_count": 130,
   "id": "69a1d191",
   "metadata": {
    "hidden": true
   },
   "outputs": [
    {
     "name": "stdout",
     "output_type": "stream",
     "text": [
      "Пользователь Dmitry Rubtsov c ником dmitryrubtsov зарегистрирован в Git 2018-12-04T20:09:43Z, локация -  Russia\n",
      "У пользователя dmitryrubtsov на GitHub имеется 22 репозитар.\n",
      "------------------------------------------------------------\n",
      "'Databases.Basic-course'\n",
      "'ffmpeg_friends'\n",
      "'Introduction-to-Advanced-Mathematics'\n",
      "'Introduction-to-Natural-Language-Processing'\n",
      "'Introduction-to-Neural-Networks'\n",
      "'k4-russia'\n",
      "'Kaggle'\n",
      "'Machine-Learning-in-Business'\n",
      "'Machine-Learning-Systems-in-Production'\n",
      "'Mathematics'\n",
      "'Methods-of-collecting-and-processing-data-from-the-Internet'\n",
      "'nvim'\n",
      "'openapi-python-client'\n",
      "'Predictions-of-calls-in-Moscow-Megafon'\n",
      "'Python-for-Data-Science'\n",
      "'python-proxy'\n",
      "'Python.Basic-course'\n",
      "'Python.Basics_of_language'\n",
      "'Recommender-systems'\n",
      "'Resume'\n",
      "'Test-on-Job'\n",
      "'vimrc'\n"
     ]
    }
   ],
   "source": [
    "url_date = 'https://api.github.com/users/'+ username\n",
    "response_date = requests.get(url_date)\n",
    "json_date = response_date.json()\n",
    "print(f'Пользователь {json_date.get(\"name\")} c ником {username} зарегистрирован в Git {json_date.get(\"created_at\")}, локация -  {json_date.get(\"location\")}')\n",
    "\n",
    "response = requests.get(url_repos)\n",
    "json_list = response.json()\n",
    "print(f'У пользователя {username} на GitHub имеется {len(json_list)} репозитар.')\n",
    "\n",
    "print('--'*30)\n",
    "for i in json_list:\n",
    "    pprint(i.get(\"name\"))\n"
   ]
  },
  {
   "cell_type": "code",
   "execution_count": 135,
   "id": "08405fba",
   "metadata": {
    "hidden": true
   },
   "outputs": [],
   "source": [
    "# Сохраним данные с информацией о пользователе в файл \"data.txt\" (путь не указываю - сохраняем в папку с ноутбуком)\n",
    "with open('data.txt', 'w') as outfile:\n",
    "    json.dump(json_date, outfile)"
   ]
  },
  {
   "cell_type": "code",
   "execution_count": null,
   "id": "1844a345",
   "metadata": {
    "hidden": true
   },
   "outputs": [],
   "source": []
  }
 ],
 "metadata": {
  "kernelspec": {
   "display_name": "Python 3 (ipykernel)",
   "language": "python",
   "name": "python3"
  },
  "language_info": {
   "codemirror_mode": {
    "name": "ipython",
    "version": 3
   },
   "file_extension": ".py",
   "mimetype": "text/x-python",
   "name": "python",
   "nbconvert_exporter": "python",
   "pygments_lexer": "ipython3",
   "version": "3.9.4"
  }
 },
 "nbformat": 4,
 "nbformat_minor": 5
}
